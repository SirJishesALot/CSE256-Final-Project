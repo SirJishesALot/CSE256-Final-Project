{
 "cells": [
  {
   "cell_type": "code",
   "execution_count": null,
   "metadata": {
    "colab": {
     "base_uri": "https://localhost:8080/"
    },
    "executionInfo": {
     "elapsed": 24445,
     "status": "ok",
     "timestamp": 1733253778985,
     "user": {
      "displayName": "Jishnu Raychaudhuri",
      "userId": "00668552105541805087"
     },
     "user_tz": 480
    },
    "id": "snapDTsT6ANg",
    "outputId": "53d94346-c2ef-401b-bd78-60ecc4d2014d"
   },
   "outputs": [
    {
     "name": "stdout",
     "output_type": "stream",
     "text": [
      "Mounted at /content/drive\n",
      "/content/drive/My Drive/project\n"
     ]
    }
   ],
   "source": [
    "from google.colab import drive\n",
    "drive.mount('/content/drive')\n",
    "\n",
    "FOLDERNAME = 'cse256_project'\n",
    "assert FOLDERNAME is not None, \"[!] Enter the foldername.\"\n",
    "import sys\n",
    "sys.path.append('/content/drive/My Drive/{}'.format(FOLDERNAME))\n",
    "\n",
    "%cd /content/drive/My\\ Drive/$FOLDERNAME/"
   ]
  },
  {
   "cell_type": "markdown",
   "metadata": {
    "id": "Qmx1U_mQ3RX5"
   },
   "source": [
    "Importing necessary libraries and modules."
   ]
  },
  {
   "cell_type": "code",
   "execution_count": 2,
   "metadata": {
    "colab": {
     "base_uri": "https://localhost:8080/"
    },
    "executionInfo": {
     "elapsed": 8720,
     "status": "ok",
     "timestamp": 1733253796569,
     "user": {
      "displayName": "Jishnu Raychaudhuri",
      "userId": "00668552105541805087"
     },
     "user_tz": 480
    },
    "id": "xvG2P8RB6ANl",
    "outputId": "6e1c920d-54b1-40d1-a80a-fa0eedc96b66"
   },
   "outputs": [
    {
     "name": "stderr",
     "output_type": "stream",
     "text": [
      "[nltk_data] Downloading package punkt_tab to /root/nltk_data...\n",
      "[nltk_data]   Unzipping tokenizers/punkt_tab.zip.\n"
     ]
    },
    {
     "data": {
      "text/plain": [
       "True"
      ]
     },
     "execution_count": 2,
     "metadata": {},
     "output_type": "execute_result"
    }
   ],
   "source": [
    "import pandas as pd\n",
    "from torch.utils.data import DataLoader\n",
    "from transformers import AutoTokenizer, AdamW\n",
    "import torch\n",
    "from sklearn.model_selection import train_test_split\n",
    "from torch.nn.utils.rnn import pad_sequence\n",
    "import torch.nn as nn\n",
    "from nltk.tokenize import word_tokenize\n",
    "from nltk import download\n",
    "download('punkt_tab')"
   ]
  },
  {
   "cell_type": "markdown",
   "metadata": {
    "id": "w5Edvlwx3Wf0"
   },
   "source": [
    "Setting parameter values"
   ]
  },
  {
   "cell_type": "code",
   "execution_count": 3,
   "metadata": {
    "executionInfo": {
     "elapsed": 420,
     "status": "ok",
     "timestamp": 1733253801492,
     "user": {
      "displayName": "Jishnu Raychaudhuri",
      "userId": "00668552105541805087"
     },
     "user_tz": 480
    },
    "id": "VVd-u--i6ANm"
   },
   "outputs": [],
   "source": [
    "device = torch.device(\"cuda\" if torch.cuda.is_available() else \"cpu\")\n",
    "batch_size = 128 # read batched of 128 entries for training and evaluation.\n",
    "block_size = 32 # read chunks of 32 tokens at a time.\n",
    "learning_rate = 1e-3 # learning rate for AdamW optimiser.\n",
    "n_embd = 64 # embedding layer dimension.\n",
    "n_head = 2 # number of attention heads\n",
    "n_layer = 4 # number of atten head layers.\n",
    "\n",
    "eval_interval = 100 # evaluate perpelxity for every 100 iterations.\n",
    "max_iters = 2000 # stop training after 2000 iterations.\n",
    "eval_iters = 200 # evaluate for 200 iterations.\n",
    "n_input = 64 # input dimension"
   ]
  },
  {
   "cell_type": "markdown",
   "metadata": {
    "id": "mCsfvWS94rlt"
   },
   "source": [
    "Reading from the Hinglish-TOP-Dataset"
   ]
  },
  {
   "cell_type": "code",
   "execution_count": 4,
   "metadata": {
    "executionInfo": {
     "elapsed": 2929,
     "status": "ok",
     "timestamp": 1733253807634,
     "user": {
      "displayName": "Jishnu Raychaudhuri",
      "userId": "00668552105541805087"
     },
     "user_tz": 480
    },
    "id": "HJ5qcheY6ANn"
   },
   "outputs": [],
   "source": [
    "df_top_train = pd.read_csv(\"data/train.tsv\", sep='\\t')\n",
    "df_top_test = pd.read_csv(\"data/test.tsv\", sep='\\t')\n",
    "df_top_validation = pd.read_csv(\"data/validation.tsv\", sep='\\t')"
   ]
  },
  {
   "cell_type": "code",
   "execution_count": 5,
   "metadata": {
    "colab": {
     "base_uri": "https://localhost:8080/",
     "height": 453
    },
    "executionInfo": {
     "elapsed": 367,
     "status": "ok",
     "timestamp": 1733253809606,
     "user": {
      "displayName": "Jishnu Raychaudhuri",
      "userId": "00668552105541805087"
     },
     "user_tz": 480
    },
    "id": "pHSJ26BC6ANn",
    "outputId": "8e150a88-82c1-4d3a-9f34-74aa94663c5b"
   },
   "outputs": [
    {
     "data": {
      "text/html": [
       "<div>\n",
       "<style scoped>\n",
       "    .dataframe tbody tr th:only-of-type {\n",
       "        vertical-align: middle;\n",
       "    }\n",
       "\n",
       "    .dataframe tbody tr th {\n",
       "        vertical-align: top;\n",
       "    }\n",
       "\n",
       "    .dataframe thead th {\n",
       "        text-align: right;\n",
       "    }\n",
       "</style>\n",
       "<table border=\"1\" class=\"dataframe\">\n",
       "  <thead>\n",
       "    <tr style=\"text-align: right;\">\n",
       "      <th></th>\n",
       "      <th>cs_query</th>\n",
       "    </tr>\n",
       "  </thead>\n",
       "  <tbody>\n",
       "    <tr>\n",
       "      <th>0</th>\n",
       "      <td>9 : 30 am ko Sunday Brunch ke liye ek naya wee...</td>\n",
       "    </tr>\n",
       "    <tr>\n",
       "      <th>1</th>\n",
       "      <td>danny ko message karo aur dekho ke he wants to...</td>\n",
       "    </tr>\n",
       "    <tr>\n",
       "      <th>2</th>\n",
       "      <td>do ghante ke liye alarm set kardo</td>\n",
       "    </tr>\n",
       "    <tr>\n",
       "      <th>3</th>\n",
       "      <td>neil ke liye cake bake karne ke reminder ko mi...</td>\n",
       "    </tr>\n",
       "    <tr>\n",
       "      <th>4</th>\n",
       "      <td>Please mere chat requests ko retrieve kare</td>\n",
       "    </tr>\n",
       "    <tr>\n",
       "      <th>...</th>\n",
       "      <td>...</td>\n",
       "    </tr>\n",
       "    <tr>\n",
       "      <th>1385</th>\n",
       "      <td>Is summer ko outdoor concerts</td>\n",
       "    </tr>\n",
       "    <tr>\n",
       "      <th>1386</th>\n",
       "      <td>Mai chahta hu ki aap mere alarm ko 10 minutes ...</td>\n",
       "    </tr>\n",
       "    <tr>\n",
       "      <th>1387</th>\n",
       "      <td>please Tupac play kare</td>\n",
       "    </tr>\n",
       "    <tr>\n",
       "      <th>1388</th>\n",
       "      <td>Rhonda ko message kare aur July me Vacation Bi...</td>\n",
       "    </tr>\n",
       "    <tr>\n",
       "      <th>1389</th>\n",
       "      <td>aaj raat 15 - mile ke radius ke andar Moncks C...</td>\n",
       "    </tr>\n",
       "  </tbody>\n",
       "</table>\n",
       "<p>10896 rows × 1 columns</p>\n",
       "</div><br><label><b>dtype:</b> object</label>"
      ],
      "text/plain": [
       "0       9 : 30 am ko Sunday Brunch ke liye ek naya wee...\n",
       "1       danny ko message karo aur dekho ke he wants to...\n",
       "2                       do ghante ke liye alarm set kardo\n",
       "3       neil ke liye cake bake karne ke reminder ko mi...\n",
       "4              Please mere chat requests ko retrieve kare\n",
       "                              ...                        \n",
       "1385                        Is summer ko outdoor concerts\n",
       "1386    Mai chahta hu ki aap mere alarm ko 10 minutes ...\n",
       "1387                               please Tupac play kare\n",
       "1388    Rhonda ko message kare aur July me Vacation Bi...\n",
       "1389    aaj raat 15 - mile ke radius ke andar Moncks C...\n",
       "Name: cs_query, Length: 10896, dtype: object"
      ]
     },
     "execution_count": 5,
     "metadata": {},
     "output_type": "execute_result"
    }
   ],
   "source": [
    "df_github = pd.concat([df_top_train, df_top_test, df_top_validation], axis = 0)\n",
    "df_github = df_github['cs_query']\n",
    "df_github"
   ]
  },
  {
   "cell_type": "markdown",
   "metadata": {
    "id": "2O5sMYUt4xXC"
   },
   "source": [
    "Reading from the the english-to-hinglish dataset from Hugging face"
   ]
  },
  {
   "cell_type": "code",
   "execution_count": 6,
   "metadata": {
    "colab": {
     "base_uri": "https://localhost:8080/",
     "height": 555
    },
    "executionInfo": {
     "elapsed": 4471,
     "status": "ok",
     "timestamp": 1733253820635,
     "user": {
      "displayName": "Jishnu Raychaudhuri",
      "userId": "00668552105541805087"
     },
     "user_tz": 480
    },
    "id": "TK0Sv-unkjqF",
    "outputId": "8e81f4c7-d36e-4da6-a9c9-aa7052fa395f"
   },
   "outputs": [
    {
     "name": "stderr",
     "output_type": "stream",
     "text": [
      "/usr/local/lib/python3.10/dist-packages/huggingface_hub/utils/_auth.py:94: UserWarning: \n",
      "The secret `HF_TOKEN` does not exist in your Colab secrets.\n",
      "To authenticate with the Hugging Face Hub, create a token in your settings tab (https://huggingface.co/settings/tokens), set it as secret in your Google Colab and restart your session.\n",
      "You will be able to reuse this secret in all of your notebooks.\n",
      "Please note that authentication is recommended but still optional to access public models or datasets.\n",
      "  warnings.warn(\n"
     ]
    },
    {
     "data": {
      "text/html": [
       "<div>\n",
       "<style scoped>\n",
       "    .dataframe tbody tr th:only-of-type {\n",
       "        vertical-align: middle;\n",
       "    }\n",
       "\n",
       "    .dataframe tbody tr th {\n",
       "        vertical-align: top;\n",
       "    }\n",
       "\n",
       "    .dataframe thead th {\n",
       "        text-align: right;\n",
       "    }\n",
       "</style>\n",
       "<table border=\"1\" class=\"dataframe\">\n",
       "  <thead>\n",
       "    <tr style=\"text-align: right;\">\n",
       "      <th></th>\n",
       "      <th>cs_query</th>\n",
       "    </tr>\n",
       "  </thead>\n",
       "  <tbody>\n",
       "    <tr>\n",
       "      <th>0</th>\n",
       "      <td>9 : 30 am ko Sunday Brunch ke liye ek naya wee...</td>\n",
       "    </tr>\n",
       "    <tr>\n",
       "      <th>1</th>\n",
       "      <td>danny ko message karo aur dekho ke he wants to...</td>\n",
       "    </tr>\n",
       "    <tr>\n",
       "      <th>2</th>\n",
       "      <td>do ghante ke liye alarm set kardo</td>\n",
       "    </tr>\n",
       "    <tr>\n",
       "      <th>3</th>\n",
       "      <td>neil ke liye cake bake karne ke reminder ko mi...</td>\n",
       "    </tr>\n",
       "    <tr>\n",
       "      <th>4</th>\n",
       "      <td>Please mere chat requests ko retrieve kare</td>\n",
       "    </tr>\n",
       "    <tr>\n",
       "      <th>...</th>\n",
       "      <td>...</td>\n",
       "    </tr>\n",
       "    <tr>\n",
       "      <th>162026</th>\n",
       "      <td>udbilaao .  .  wow bahut din baad yeh suna hai...</td>\n",
       "    </tr>\n",
       "    <tr>\n",
       "      <th>162027</th>\n",
       "      <td>Dr Kumar Vishwas: \"Koi deewana kehta hai.. koi...</td>\n",
       "    </tr>\n",
       "    <tr>\n",
       "      <th>162028</th>\n",
       "      <td>Me: Aaj kuch toofani karte hai.Mom: Pani ki bo...</td>\n",
       "    </tr>\n",
       "    <tr>\n",
       "      <th>162029</th>\n",
       "      <td>Pyar mangi to Jaan dengi,milk mango to kher de...</td>\n",
       "    </tr>\n",
       "    <tr>\n",
       "      <th>162030</th>\n",
       "      <td>Ye sab aunty'on ke saath?</td>\n",
       "    </tr>\n",
       "  </tbody>\n",
       "</table>\n",
       "<p>162031 rows × 1 columns</p>\n",
       "</div><br><label><b>dtype:</b> object</label>"
      ],
      "text/plain": [
       "0         9 : 30 am ko Sunday Brunch ke liye ek naya wee...\n",
       "1         danny ko message karo aur dekho ke he wants to...\n",
       "2                         do ghante ke liye alarm set kardo\n",
       "3         neil ke liye cake bake karne ke reminder ko mi...\n",
       "4                Please mere chat requests ko retrieve kare\n",
       "                                ...                        \n",
       "162026    udbilaao .  .  wow bahut din baad yeh suna hai...\n",
       "162027    Dr Kumar Vishwas: \"Koi deewana kehta hai.. koi...\n",
       "162028    Me: Aaj kuch toofani karte hai.Mom: Pani ki bo...\n",
       "162029    Pyar mangi to Jaan dengi,milk mango to kher de...\n",
       "162030                            Ye sab aunty'on ke saath?\n",
       "Name: cs_query, Length: 162031, dtype: object"
      ]
     },
     "execution_count": 6,
     "metadata": {},
     "output_type": "execute_result"
    }
   ],
   "source": [
    "df_hugging = pd.read_json(\"hf://datasets/findnitai/english-to-hinglish/hinglish_upload_v1.json\", lines=True)\n",
    "df_hugging = df_hugging['translation'].apply(lambda x: x.get('hi_ng'))\n",
    "df_hugging.name = 'cs_query'\n",
    "df = pd.concat([df_github, df_hugging]).drop_duplicates().reset_index(drop=True)\n",
    "df = df.str.replace('\\n', '', regex=False).str.replace('\\t', '', regex=False)\n",
    "df"
   ]
  },
  {
   "cell_type": "markdown",
   "metadata": {
    "id": "g8Trlfg94563"
   },
   "source": [
    "Splitting into training and testing dataset. 70% training, 30% testing."
   ]
  },
  {
   "cell_type": "code",
   "execution_count": 7,
   "metadata": {
    "colab": {
     "base_uri": "https://localhost:8080/"
    },
    "executionInfo": {
     "elapsed": 9,
     "status": "ok",
     "timestamp": 1733253864982,
     "user": {
      "displayName": "Jishnu Raychaudhuri",
      "userId": "00668552105541805087"
     },
     "user_tz": 480
    },
    "id": "kzo0fS_w6ANo",
    "outputId": "e5cd0073-b22d-4ab6-f876-1585c7f7eb37"
   },
   "outputs": [
    {
     "name": "stdout",
     "output_type": "stream",
     "text": [
      "45894                weekend par kitni barish expected hai\n",
      "75239     next two days ke liye sabhi alarms ko band kardo\n",
      "42566                     San Diego me kitne miles door he\n",
      "58370                Mere liye thoda christian music bajao\n",
      "76526    mere church ke liye is hafte koi bhi reminders...\n",
      "Name: cs_query, dtype: object\n",
      "12479     Batana to difficult he , probably dono ke liye he\n",
      "476                       Florida mei kitna temperature hai\n",
      "97038     train se Eagles parade tak pahunchne ke liye s...\n",
      "123789    Harry ko message karo ki happy birthday to you...\n",
      "92097                       is song ko rok do aur skip kare\n",
      "Name: cs_query, dtype: object\n"
     ]
    }
   ],
   "source": [
    "df_train, df_test = train_test_split(df, test_size=0.3, random_state=42)\n",
    "print(df_train.head())\n",
    "print(df_test.head())"
   ]
  },
  {
   "cell_type": "markdown",
   "metadata": {
    "id": "Cbvo3syN5Bnx"
   },
   "source": [
    "Concatenate all the training and testing texts into one large text."
   ]
  },
  {
   "cell_type": "code",
   "execution_count": 8,
   "metadata": {
    "executionInfo": {
     "elapsed": 518,
     "status": "ok",
     "timestamp": 1733253868049,
     "user": {
      "displayName": "Jishnu Raychaudhuri",
      "userId": "00668552105541805087"
     },
     "user_tz": 480
    },
    "id": "HimB6pWg6ANp"
   },
   "outputs": [],
   "source": [
    "train_text = ' '.join(df_train.astype(str))\n",
    "test_text  = ' '.join(df_test.astype(str))"
   ]
  },
  {
   "cell_type": "markdown",
   "metadata": {
    "id": "Yau6SSF45HZJ"
   },
   "source": [
    "Dataset class to hold training and testing set entries. Inspired from the starter code in PA2."
   ]
  },
  {
   "cell_type": "code",
   "execution_count": 9,
   "metadata": {
    "executionInfo": {
     "elapsed": 374,
     "status": "ok",
     "timestamp": 1733253870413,
     "user": {
      "displayName": "Jishnu Raychaudhuri",
      "userId": "00668552105541805087"
     },
     "user_tz": 480
    },
    "id": "l7xyL5fs6ANp"
   },
   "outputs": [],
   "source": [
    "class LanguageModelingDataset(torch.utils.data.Dataset):\n",
    "    def __init__(self, tokenizer, text, block_size):\n",
    "        self.tokenizer = tokenizer\n",
    "        self.data = torch.tensor(self.tokenizer.encode(text), dtype=torch.long)\n",
    "        self.block_size = block_size\n",
    "\n",
    "    def __len__(self):\n",
    "        return len(self.data) - self.block_size\n",
    "\n",
    "    def __getitem__(self, idx):\n",
    "        chunk = self.data[idx:idx + self.block_size + 1]\n",
    "        x = chunk[:-1]\n",
    "        y = chunk[1:]\n",
    "        return x, y"
   ]
  },
  {
   "cell_type": "markdown",
   "metadata": {
    "id": "nKmdTgOr5fL_"
   },
   "source": [
    "Simple whole word tokeniser. Inspired from the starter code in PA2."
   ]
  },
  {
   "cell_type": "code",
   "execution_count": 10,
   "metadata": {
    "executionInfo": {
     "elapsed": 7,
     "status": "ok",
     "timestamp": 1733253872262,
     "user": {
      "displayName": "Jishnu Raychaudhuri",
      "userId": "00668552105541805087"
     },
     "user_tz": 480
    },
    "id": "J0Um1fk1rU_Q"
   },
   "outputs": [],
   "source": [
    "class SimpleTokenizer:\n",
    "    def __init__(self, text):\n",
    "        self.vocab = set()\n",
    "        self.stoi = {}\n",
    "        self.itos = {}\n",
    "        self.build_vocab(text)\n",
    "\n",
    "    def build_vocab(self, text):\n",
    "        tokens = word_tokenize(text)\n",
    "        self.vocab = set(tokens)\n",
    "        self.vocab_size = len(self.vocab) + 2\n",
    "        self.stoi = {word: i for i, word in enumerate(self.vocab, start=2)}\n",
    "        self.stoi['<pad>'] = 0\n",
    "        self.stoi['<unk>'] = 1\n",
    "        self.itos = {i: word for word, i in self.stoi.items()}\n",
    "\n",
    "    def encode(self, text):\n",
    "        tokens = word_tokenize(text)\n",
    "        return [self.stoi.get(word, self.stoi['<unk>']) for word in tokens]\n",
    "\n",
    "    def decode(self, indices):\n",
    "        return ' '.join([self.itos.get(index, '<unk>') for index in indices])"
   ]
  },
  {
   "cell_type": "markdown",
   "metadata": {
    "id": "1QWJupEI5_Tn"
   },
   "source": [
    "Helper functions. `collate_batch` and `compute_perplexity` functions inspired frmo the starter code in PA2."
   ]
  },
  {
   "cell_type": "code",
   "execution_count": 11,
   "metadata": {
    "executionInfo": {
     "elapsed": 284,
     "status": "ok",
     "timestamp": 1733253875781,
     "user": {
      "displayName": "Jishnu Raychaudhuri",
      "userId": "00668552105541805087"
     },
     "user_tz": 480
    },
    "id": "ltQBQ3-O6ANq"
   },
   "outputs": [],
   "source": [
    "def collate_batch(batch):\n",
    "    data, labels = zip(*batch)\n",
    "\n",
    "    padded_sequences = pad_sequence(data, batch_first=True, padding_value=0)\n",
    "    padded_sequences = padded_sequences[:, :block_size]\n",
    "\n",
    "    padded_sequences = torch.nn.functional.pad(padded_sequences, (0, max(0, block_size - padded_sequences.shape[1])), \"constant\", 0)\n",
    "    labels = torch.stack(labels)\n",
    "    return padded_sequences, labels\n",
    "\n",
    "def count_parameters(model):\n",
    "    return sum(p.numel() for p in model.parameters() if p.requires_grad)\n",
    "\n",
    "def compute_perplexity(decoderLMmodel, data_loader, eval_iters=100):\n",
    "    decoderLMmodel.eval()\n",
    "    losses= []\n",
    "    for X, Y in data_loader:\n",
    "        X, Y = X.to(device), Y.to(device)\n",
    "        output, attention_maps = decoderLMmodel(X, Y)\n",
    "        logits, loss = output\n",
    "        losses.append(loss.item())\n",
    "        if len(losses) >= eval_iters: break\n",
    "\n",
    "    losses = torch.tensor(losses)\n",
    "    mean_loss = losses.mean()\n",
    "    perplexity = torch.exp(mean_loss).item()\n",
    "\n",
    "    decoderLMmodel.train()\n",
    "    return perplexity"
   ]
  },
  {
   "cell_type": "markdown",
   "metadata": {
    "id": "2M47YfZ56SeL"
   },
   "source": [
    "Implementation of the decoder language model with masked attention heads."
   ]
  },
  {
   "cell_type": "code",
   "execution_count": 12,
   "metadata": {
    "executionInfo": {
     "elapsed": 400,
     "status": "ok",
     "timestamp": 1733253878606,
     "user": {
      "displayName": "Jishnu Raychaudhuri",
      "userId": "00668552105541805087"
     },
     "user_tz": 480
    },
    "id": "WxOuDokr6ANq"
   },
   "outputs": [],
   "source": [
    "class DecoderModel(nn.Module):\n",
    "    def __init__(self, vocab_size, d_model, sequence_length, num_heads, num_layers, device):\n",
    "        super().__init__()\n",
    "        self.device = device\n",
    "        self.d_model = d_model\n",
    "        self.block_size = sequence_length\n",
    "        self.token_embedding_table = nn.Embedding(vocab_size, d_model)\n",
    "        self.position_embedding_table = nn.Embedding(sequence_length, d_model)\n",
    "        self.blocks = nn.ModuleList([Block(d_model, num_heads=num_heads, block_size=sequence_length, mode=1) for _ in range(num_layers)]) # masked attention heads\n",
    "        self.ln_f = nn.LayerNorm(d_model)\n",
    "        self.lm_head = nn.Linear(d_model, vocab_size)\n",
    "\n",
    "    def forward(self, idx, targets = None):\n",
    "        B, T = idx.shape\n",
    "        tok_emb = self.token_embedding_table(idx)\n",
    "        pos_emb = self.position_embedding_table(torch.arange(T, device=self.device)) # (T,C)\n",
    "        x = tok_emb + pos_emb\n",
    "\n",
    "        attention_maps = []\n",
    "        for block in self.blocks:\n",
    "            x, attention = block(x)\n",
    "            attention_maps.append(attention)\n",
    "        x = self.ln_f(x)\n",
    "        logits = self.lm_head(x)\n",
    "\n",
    "        if targets is None:\n",
    "            loss = None\n",
    "        else:\n",
    "            B, T, C = logits.shape\n",
    "            logits = logits.view(B*T, C)\n",
    "            targets = targets.view(B*T)\n",
    "            loss = nn.functional.cross_entropy(logits, targets)\n",
    "\n",
    "        return (logits, loss), attention_maps\n",
    "\n",
    "    def generate(self, idx, max_new_tokens):\n",
    "        for _ in range(max_new_tokens):\n",
    "            idx_cond = idx[:, -self.block_size:]\n",
    "            (logits, loss), _ = self(idx_cond)\n",
    "            logits = logits[:, -1, :]\n",
    "            probs = nn.functional.softmax(logits, dim = -1)\n",
    "            idx_next = torch.multinomial(probs, num_samples = 1)\n",
    "            idx = torch.cat((idx, idx_next), dim = 1)\n",
    "        return idx\n",
    "\n",
    "class MaskedHead(nn.Module):\n",
    "    def __init__(self, head_size, d_model, block_size):\n",
    "        super().__init__()\n",
    "        self.key = nn.Linear(d_model, head_size, bias=False)\n",
    "        self.query = nn.Linear(d_model, head_size, bias=False)\n",
    "        self.value = nn.Linear(d_model, head_size, bias=False)\n",
    "        self.register_buffer('tril', torch.tril(torch.ones(block_size, block_size)))\n",
    "\n",
    "    def forward(self, x):\n",
    "        B, T, C = x.shape\n",
    "        k, q, v = self.key(x), self.query(x), self.value(x)\n",
    "\n",
    "        weights = q @ k.transpose(-2, -1) * C**-0.5\n",
    "        weights = weights.masked_fill(self.tril[:T, :T] == 0, float('-inf'))\n",
    "        weights = nn.functional.softmax(weights, dim=-1)\n",
    "\n",
    "        outputs = weights @ v\n",
    "        return outputs, weights\n",
    "\n",
    "class Head(nn.Module):\n",
    "    def __init__(self, head_size, d_model):\n",
    "        super().__init__()\n",
    "        self.key = nn.Linear(d_model, head_size, bias=False)\n",
    "        self.query = nn.Linear(d_model, head_size, bias=False)\n",
    "        self.value = nn.Linear(d_model, head_size, bias=False)\n",
    "\n",
    "    def forward(self, x):\n",
    "        B, T, C = x.shape\n",
    "        k, q, v = self.key(x), self.query(x), self.value(x)\n",
    "\n",
    "        weights = q @ k.transpose(-2, 1) * C**-0.5\n",
    "        weights = nn.functional.softmax(weights, dim = -1)\n",
    "\n",
    "        outputs = weights @ v\n",
    "        return outputs, weights\n",
    "\n",
    "class MultiHeadAttention(nn.Module):\n",
    "    def __init__(self, num_heads, head_size, d_model, block_size, device, mode = 0):\n",
    "        super().__init__()\n",
    "        if mode == 0: # regular\n",
    "            self.heads = nn.ModuleList([Head(head_size, d_model) for _ in range(num_heads)])\n",
    "        elif mode == 1: # masked head\n",
    "            self.heads = nn.ModuleList([MaskedHead(head_size, d_model, block_size) for _ in range(num_heads)])\n",
    "        self.proj = nn.Linear(num_heads * head_size, d_model)\n",
    "\n",
    "    def forward(self, x):\n",
    "        attention_maps = []\n",
    "        outputs = []\n",
    "        for head in self.heads:\n",
    "            head_output, attention = head(x)\n",
    "            outputs.append(head_output)\n",
    "            attention_maps.append(attention)\n",
    "\n",
    "        concat_outputs = torch.cat(outputs, dim = -1)\n",
    "        output = self.proj(concat_outputs)\n",
    "        return output, attention_maps[0]\n",
    "\n",
    "class FeedForward(nn.Module):\n",
    "    def __init__(self, d_model, hidden_size):\n",
    "        super().__init__()\n",
    "        self.net = nn.Sequential(\n",
    "            nn.Linear(d_model, hidden_size),\n",
    "            nn.ReLU(),\n",
    "            nn.Linear(hidden_size, d_model)\n",
    "        )\n",
    "\n",
    "    def forward(self, x):\n",
    "        return self.net(x)\n",
    "\n",
    "class Block(nn.Module):\n",
    "    def __init__(self, d_model, num_heads, block_size=None, sequence_length=None, device=None, mode=0):\n",
    "        super().__init__()\n",
    "        head_size = d_model // num_heads # this may seem redundant but it is not. do not remove.\n",
    "        self.sa = MultiHeadAttention(num_heads, head_size, d_model, block_size, device, mode)\n",
    "        self.ffwd = FeedForward(d_model, 100)\n",
    "        self.ln1 = nn.LayerNorm(d_model)\n",
    "        self.ln2 = nn.LayerNorm(d_model)\n",
    "\n",
    "    def forward(self, x):\n",
    "        x_ln1 = self.ln1(x)\n",
    "        sa_out, attention_map = self.sa(x_ln1)\n",
    "        x = x + sa_out\n",
    "        x = x + self.ffwd(self.ln2(x))\n",
    "        return x, attention_map"
   ]
  },
  {
   "cell_type": "markdown",
   "metadata": {
    "id": "EtZ-6yay6_8y"
   },
   "source": [
    "Setting up the tokenisers and data loaders. The models with different tokenisers were ran by uncommenting the desired tokeniser and commenting out the others and then initialising the language model with the desired tokeniser."
   ]
  },
  {
   "cell_type": "code",
   "execution_count": 13,
   "metadata": {
    "colab": {
     "base_uri": "https://localhost:8080/",
     "height": 162,
     "referenced_widgets": [
      "c611cd7193654267855abb37fe8aeb65",
      "55b3e9e4e1c7495b9502ca7ee9166854",
      "89e4245866c04650b239e021b6cbe5c5",
      "0b70864369084f599110514742802331",
      "dafc769f1d1a4628bbd7a33992c190ed",
      "57cdc2fdcaee48a3814245c07873aa52",
      "0af18c0960994328b8271b3c5fddc869",
      "ca1c541b070b42dbbe7ed86ed0bdf474",
      "203f92d17df2416898d1dbcf4b430b14",
      "d49d7949462d430dbf9b814b3baa7d4d",
      "4bb6c92fa06944929be5fe503c3c9a7c",
      "f14bb7ad65e24faa9b06d7b246e6df27",
      "ea6dd517a98e4d94be61a2c19751e4e1",
      "58265b88d8fd4ac086b1ac2411bb606c",
      "b71c770d6ea5401e8d9abd52294b3297",
      "3ee732b499a04aadadbcb460fbe0e09a",
      "0243d31819184f82b76217bb71aef048",
      "b888782d2f2b43ea8e2d13b44997be15",
      "96357e7b9f8841a092b0d629816d608f",
      "21949260da5640f39fcce5e858651b52",
      "8a47771f23b2416c8d127149baf40d84",
      "566f99b99f4449829b72fb8396f58f21",
      "99cd7fe2c4ff403e90e1ba49c8f0290e",
      "3b3b0cb2ef9e468685314a4ed32a27c8",
      "c30b8ddeeeb4424f9fb3326ab718f77a",
      "2aab57bbee4e4807b47aa9b63dcec374",
      "52071a16cc5a4317b69b0ae2d0bd0031",
      "cd0da29743944302a41624bf32158fdd",
      "5a77f56ff2f44b5d8a0e929471095ffe",
      "76057372869b4c5d9c2ca7107d655362",
      "f5fda39e95444237a5c0f10a2048d5ee",
      "c87497ee95af4b9eae2da575f0c96f2b",
      "9d4ac6a937d943d7b8666865230f3d8d",
      "b589fc3792de408c859ea5b830ccb5f5",
      "a81885316e8a491eaad4700be74ef7fa",
      "e46e64ac50024be3b70e29920c9ea857",
      "296960d95a9246b8a11dea533082d29c",
      "7dfc7b2497c24ee1a0c139360e1ee030",
      "9e2acdf9b7334df099a934c8ea6be86f",
      "ec6aa2bbf49d4a6885e9cb65f21f2376",
      "fd236b5a6dfb41f7a48e917405c812e7",
      "bcf49bd8e9864b06904713d9ab658a2c",
      "01b1e855290744c0bf5001340817279e",
      "d4ed236ffa0b45188d66424d684f30e3"
     ]
    },
    "executionInfo": {
     "elapsed": 11957,
     "status": "ok",
     "timestamp": 1733253893418,
     "user": {
      "displayName": "Jishnu Raychaudhuri",
      "userId": "00668552105541805087"
     },
     "user_tz": 480
    },
    "id": "mQ-V6uBQ6ANr",
    "outputId": "2f1ba4e1-77c6-498e-8cee-d00c50cbdc1c"
   },
   "outputs": [
    {
     "data": {
      "application/vnd.jupyter.widget-view+json": {
       "model_id": "c611cd7193654267855abb37fe8aeb65",
       "version_major": 2,
       "version_minor": 0
      },
      "text/plain": [
       "tokenizer_config.json:   0%|          | 0.00/314 [00:00<?, ?B/s]"
      ]
     },
     "metadata": {},
     "output_type": "display_data"
    },
    {
     "data": {
      "application/vnd.jupyter.widget-view+json": {
       "model_id": "f14bb7ad65e24faa9b06d7b246e6df27",
       "version_major": 2,
       "version_minor": 0
      },
      "text/plain": [
       "vocab.txt:   0%|          | 0.00/207k [00:00<?, ?B/s]"
      ]
     },
     "metadata": {},
     "output_type": "display_data"
    },
    {
     "data": {
      "application/vnd.jupyter.widget-view+json": {
       "model_id": "99cd7fe2c4ff403e90e1ba49c8f0290e",
       "version_major": 2,
       "version_minor": 0
      },
      "text/plain": [
       "tokenizer.json:   0%|          | 0.00/686k [00:00<?, ?B/s]"
      ]
     },
     "metadata": {},
     "output_type": "display_data"
    },
    {
     "data": {
      "application/vnd.jupyter.widget-view+json": {
       "model_id": "b589fc3792de408c859ea5b830ccb5f5",
       "version_major": 2,
       "version_minor": 0
      },
      "text/plain": [
       "special_tokens_map.json:   0%|          | 0.00/125 [00:00<?, ?B/s]"
      ]
     },
     "metadata": {},
     "output_type": "display_data"
    },
    {
     "name": "stderr",
     "output_type": "stream",
     "text": [
      "Token indices sequence length is longer than the specified maximum sequence length for this model (1675750 > 512). Running this sequence through the model will result in indexing errors\n"
     ]
    }
   ],
   "source": [
    "# tokenizer = SimpleTokenizer(' '.join(df.astype(str)))\n",
    "# tokenizer = AutoTokenizer.from_pretrained(\"google/muril-base-cased\")\n",
    "tokenizer = AutoTokenizer.from_pretrained(\"obaidtambo/hinglish_bert_tokenizer\")\n",
    "\n",
    "train_dataset = LanguageModelingDataset(tokenizer, train_text, block_size)\n",
    "test_dataset = LanguageModelingDataset(tokenizer, test_text, block_size)\n",
    "\n",
    "train_loader = DataLoader(train_dataset, batch_size=batch_size, shuffle=True)\n",
    "test_loader = DataLoader(test_dataset, batch_size=batch_size, shuffle=True)"
   ]
  },
  {
   "cell_type": "code",
   "execution_count": 14,
   "metadata": {
    "colab": {
     "base_uri": "https://localhost:8080/"
    },
    "executionInfo": {
     "elapsed": 113192,
     "status": "ok",
     "timestamp": 1733254006605,
     "user": {
      "displayName": "Jishnu Raychaudhuri",
      "userId": "00668552105541805087"
     },
     "user_tz": 480
    },
    "id": "pJsw5k_v6ANs",
    "outputId": "1f30b5ba-c02b-4d16-9e52-ff613bc7a810"
   },
   "outputs": [
    {
     "name": "stdout",
     "output_type": "stream",
     "text": [
      "Number of parameters in decoder: 4060234\n",
      "Iteration 0.\n",
      "Training perplexity: 35710.46875\n",
      "Testing perplexity: 35674.89453125\n",
      "\n",
      "Iteration 100.\n",
      "Training perplexity: 318.03131103515625\n",
      "Testing perplexity: 316.9477844238281\n",
      "\n",
      "Iteration 200.\n",
      "Training perplexity: 129.21630859375\n",
      "Testing perplexity: 128.1681365966797\n",
      "\n",
      "Iteration 300.\n",
      "Training perplexity: 73.84593200683594\n",
      "Testing perplexity: 74.95266723632812\n",
      "\n",
      "Iteration 400.\n",
      "Training perplexity: 55.490665435791016\n",
      "Testing perplexity: 56.83162307739258\n",
      "\n",
      "Iteration 500.\n",
      "Training perplexity: 46.48627471923828\n",
      "Testing perplexity: 46.83998107910156\n",
      "\n",
      "Iteration 600.\n",
      "Training perplexity: 40.24882125854492\n",
      "Testing perplexity: 41.05354309082031\n",
      "\n",
      "Iteration 700.\n",
      "Training perplexity: 36.16015625\n",
      "Testing perplexity: 37.36448287963867\n",
      "\n",
      "Iteration 800.\n",
      "Training perplexity: 33.19593811035156\n",
      "Testing perplexity: 34.47003173828125\n",
      "\n",
      "Iteration 900.\n",
      "Training perplexity: 30.575096130371094\n",
      "Testing perplexity: 32.28254318237305\n",
      "\n",
      "Iteration 1000.\n",
      "Training perplexity: 28.95437240600586\n",
      "Testing perplexity: 30.954761505126953\n",
      "\n",
      "Iteration 1100.\n",
      "Training perplexity: 27.71455192565918\n",
      "Testing perplexity: 29.740066528320312\n",
      "\n",
      "Iteration 1200.\n",
      "Training perplexity: 26.291309356689453\n",
      "Testing perplexity: 28.545928955078125\n",
      "\n",
      "Iteration 1300.\n",
      "Training perplexity: 25.266942977905273\n",
      "Testing perplexity: 27.701168060302734\n",
      "\n",
      "Iteration 1400.\n",
      "Training perplexity: 24.058223724365234\n",
      "Testing perplexity: 26.476903915405273\n",
      "\n",
      "Iteration 1500.\n",
      "Training perplexity: 23.795166015625\n",
      "Testing perplexity: 26.25857162475586\n",
      "\n",
      "Iteration 1600.\n",
      "Training perplexity: 22.952381134033203\n",
      "Testing perplexity: 25.38178825378418\n",
      "\n",
      "Iteration 1700.\n",
      "Training perplexity: 22.393138885498047\n",
      "Testing perplexity: 24.901519775390625\n",
      "\n",
      "Iteration 1800.\n",
      "Training perplexity: 21.760082244873047\n",
      "Testing perplexity: 24.36383819580078\n",
      "\n",
      "Iteration 1900.\n",
      "Training perplexity: 21.159292221069336\n",
      "Testing perplexity: 24.123933792114258\n",
      "\n",
      "Iteration 1999.\n",
      "Training perplexity: 20.93209457397461\n",
      "Testing perplexity: 24.002408981323242\n",
      "\n",
      "Perplexity at 2000th iteration.\n",
      "Training perplexity: 23.812681198120117\n",
      "Testing perplexity: 23.631357192993164\n"
     ]
    }
   ],
   "source": [
    "decoder = DecoderModel(tokenizer.vocab_size, n_embd, n_input, n_head, n_layer, device)\n",
    "decoder = decoder.to(device)\n",
    "optimizer = torch.optim.AdamW(decoder.parameters(), lr=learning_rate)\n",
    "\n",
    "train_perplexities = []\n",
    "test_perplexities = []\n",
    "iterations = []\n",
    "\n",
    "print(\"Number of parameters in decoder:\", count_parameters(decoder))\n",
    "for i, (xb, yb) in enumerate(train_loader):\n",
    "    if i >= max_iters:\n",
    "        break\n",
    "    xb, yb = xb.to(device), yb.to(device)\n",
    "    if i % eval_interval == 0 or i == max_iters - 1:\n",
    "        train_perplexity = compute_perplexity(decoder, train_loader, eval_iters=eval_iters)\n",
    "        test_perplexity = compute_perplexity(decoder, test_loader, eval_iters=eval_iters)\n",
    "        train_perplexities.append(train_perplexity)\n",
    "        test_perplexities.append(test_perplexity)\n",
    "        iterations.append(i)\n",
    "\n",
    "        print(f\"Iteration {i}.\")\n",
    "        print(f\"Training perplexity: {train_perplexity}\")\n",
    "        print(f\"Testing perplexity: {test_perplexity}\")\n",
    "        print('')\n",
    "\n",
    "    output, attention_maps = decoder(xb, yb)\n",
    "    logits, loss = output\n",
    "    optimizer.zero_grad(set_to_none=True)\n",
    "    loss.backward()\n",
    "    optimizer.step()\n",
    "\n",
    "print(f\"Perplexity at {max_iters}th iteration.\")\n",
    "print(\"Training perplexity:\", compute_perplexity(decoder, test_loader, eval_iters=eval_iters))\n",
    "print(f\"Testing perplexity: {compute_perplexity(decoder, test_loader, eval_iters=eval_iters)}\")"
   ]
  },
  {
   "cell_type": "markdown",
   "metadata": {
    "id": "Y09tZ38F8Q6Y"
   },
   "source": [
    "Storing the MuRIL training and testing perplexities after running the model with the MuRIL tokeniser."
   ]
  },
  {
   "cell_type": "code",
   "execution_count": 68,
   "metadata": {
    "executionInfo": {
     "elapsed": 319,
     "status": "ok",
     "timestamp": 1733080600725,
     "user": {
      "displayName": "Jishnu Raychaudhuri",
      "userId": "00668552105541805087"
     },
     "user_tz": 480
    },
    "id": "xd5Zk79U6a6-"
   },
   "outputs": [],
   "source": [
    "muril_train_perplexities = train_perplexities\n",
    "muril_test_perplexities = test_perplexities"
   ]
  },
  {
   "cell_type": "markdown",
   "metadata": {
    "id": "zbcVXrOM8Zsw"
   },
   "source": [
    "Storing the Hinglish training and testing perplexities after running the model with the Hinglish tokeniser from Hugging face."
   ]
  },
  {
   "cell_type": "code",
   "execution_count": 71,
   "metadata": {
    "executionInfo": {
     "elapsed": 353,
     "status": "ok",
     "timestamp": 1733080933290,
     "user": {
      "displayName": "Jishnu Raychaudhuri",
      "userId": "00668552105541805087"
     },
     "user_tz": 480
    },
    "id": "TncMMu9U-mru"
   },
   "outputs": [],
   "source": [
    "hinglish_train_perplexities = train_perplexities\n",
    "hinglish_test_perplexities = test_perplexities"
   ]
  },
  {
   "cell_type": "markdown",
   "metadata": {
    "id": "5QS1Bv8-8kok"
   },
   "source": [
    "Storing the simple whole word training and testing perplexities after running the model with the simple whole word tokeniser."
   ]
  },
  {
   "cell_type": "code",
   "execution_count": 78,
   "metadata": {
    "executionInfo": {
     "elapsed": 415,
     "status": "ok",
     "timestamp": 1733081423638,
     "user": {
      "displayName": "Jishnu Raychaudhuri",
      "userId": "00668552105541805087"
     },
     "user_tz": 480
    },
    "id": "UZtEz8pTsDUa"
   },
   "outputs": [],
   "source": [
    "simple_train_perplexities = train_perplexities\n",
    "simple_test_perplexities = test_perplexities"
   ]
  },
  {
   "cell_type": "code",
   "execution_count": 83,
   "metadata": {
    "colab": {
     "base_uri": "https://localhost:8080/"
    },
    "executionInfo": {
     "elapsed": 362,
     "status": "ok",
     "timestamp": 1733081663464,
     "user": {
      "displayName": "Jishnu Raychaudhuri",
      "userId": "00668552105541805087"
     },
     "user_tz": 480
    },
    "id": "tNDR10Qatz8R",
    "outputId": "5a778567-7dcb-4d5b-c408-3c1bac47c693"
   },
   "outputs": [
    {
     "name": "stdout",
     "output_type": "stream",
     "text": [
      "[235833.890625, 815.7666015625, 471.81103515625, 231.7191619873047, 159.06350708007812, 125.38188171386719, 106.53486633300781, 93.90400695800781, 82.98641204833984, 76.2585678100586, 70.67867279052734, 65.33283996582031, 61.74308776855469, 58.148921966552734, 56.56049346923828, 53.30833053588867, 51.56260681152344, 50.08074951171875, 48.44624328613281, 47.14374923706055, 44.73337936401367]\n",
      "[235794.3125, 818.77001953125, 482.1761169433594, 236.22238159179688, 164.6836395263672, 132.7476043701172, 114.0820541381836, 101.91905212402344, 90.90861511230469, 84.71671295166016, 81.75749969482422, 76.5454330444336, 70.64771270751953, 69.36902618408203, 65.77267456054688, 64.85125732421875, 62.68998718261719, 61.094478607177734, 59.61241912841797, 59.06044006347656, 58.56596374511719]\n",
      "[34345.9921875, 318.47137451171875, 123.97037506103516, 72.76806640625, 54.7878532409668, 44.9097900390625, 39.744606018066406, 35.486000061035156, 33.03010177612305, 30.391996383666992, 28.98244857788086, 27.61488914489746, 26.156679153442383, 25.290273666381836, 24.326202392578125, 23.318119049072266, 23.025854110717773, 22.469467163085938, 21.842700958251953, 21.573177337646484, 20.90015411376953]\n",
      "[34309.1953125, 319.4531555175781, 125.04096984863281, 72.98341369628906, 55.41189956665039, 46.91665267944336, 40.70747756958008, 36.913612365722656, 34.27568435668945, 32.40177917480469, 30.915176391601562, 29.397136688232422, 28.20589256286621, 27.395023345947266, 26.77802848815918, 25.963871002197266, 25.043968200683594, 24.776357650756836, 24.640718460083008, 24.007326126098633, 23.862625122070312]\n",
      "[62931.9609375, 743.1784057617188, 456.9233093261719, 263.5343933105469, 191.40792846679688, 156.85348510742188, 132.45460510253906, 114.45726013183594, 103.47039794921875, 94.24285888671875, 85.9025650024414, 80.80098724365234, 76.05948638916016, 70.56505584716797, 66.9964370727539, 65.08148193359375, 61.75380325317383, 59.71452331542969, 56.806373596191406, 54.15378952026367, 52.99932861328125]\n",
      "[62916.12109375, 747.21435546875, 474.39971923828125, 275.900146484375, 209.02700805664062, 171.61517333984375, 150.93316650390625, 137.1977081298828, 123.40188598632812, 115.91053009033203, 110.2955551147461, 103.11660766601562, 101.16743469238281, 97.9382095336914, 93.7917709350586, 91.52010345458984, 91.00802612304688, 88.33301544189453, 87.3995361328125, 87.48359680175781, 84.78379821777344]\n"
     ]
    }
   ],
   "source": [
    "print(muril_train_perplexities)\n",
    "print(muril_test_perplexities)\n",
    "print(hinglish_train_perplexities)\n",
    "print(hinglish_test_perplexities)\n",
    "print(simple_train_perplexities)\n",
    "print(simple_test_perplexities)"
   ]
  },
  {
   "cell_type": "markdown",
   "metadata": {
    "id": "GzXZRL8z8yaJ"
   },
   "source": [
    "Generating Hinglish tokens with empty context."
   ]
  },
  {
   "cell_type": "code",
   "execution_count": 15,
   "metadata": {
    "colab": {
     "base_uri": "https://localhost:8080/"
    },
    "executionInfo": {
     "elapsed": 3656,
     "status": "ok",
     "timestamp": 1733254039202,
     "user": {
      "displayName": "Jishnu Raychaudhuri",
      "userId": "00668552105541805087"
     },
     "user_tz": 480
    },
    "id": "mCHmxt8C-qNA",
    "outputId": "a0411524-14bd-4239-e218-f064dad69ff6"
   },
   "outputs": [
    {
     "name": "stdout",
     "output_type": "stream",
     "text": [
      "[PAD]i expectpanth se pahuchne mei kitni der lagegi [UNK] kya hurricane ka kam koi tarah block wali hai [UNK] to [UNK] aur aage kaam madation hai [UNK] politicaar playrykkrin virodhing sankalwa gayakos hairowkaring log gu gayeused [UNK]ing cover tak kam kon par nahi singth ka istemaal karke [UNK] movieotan ke liye [UNK] salman dwar [UNK] [UNK] ke liye [UNK] n firstit me jane par don\n"
     ]
    }
   ],
   "source": [
    "context = torch.zeros((1, 1), dtype=torch.long, device=device)\n",
    "print(tokenizer.decode(decoder.generate(context, max_new_tokens=100)[0].tolist()))"
   ]
  },
  {
   "cell_type": "markdown",
   "metadata": {
    "id": "29AWT7s084Bn"
   },
   "source": [
    "Generating Hinglish tokens with non-empty context. \"ghar jaane ke baad\" translates to \"after returning home\"."
   ]
  },
  {
   "cell_type": "code",
   "execution_count": 16,
   "metadata": {
    "colab": {
     "base_uri": "https://localhost:8080/"
    },
    "executionInfo": {
     "elapsed": 1008,
     "status": "ok",
     "timestamp": 1733254057860,
     "user": {
      "displayName": "Jishnu Raychaudhuri",
      "userId": "00668552105541805087"
     },
     "user_tz": 480
    },
    "id": "qEF_TeNsAYYC",
    "outputId": "0c3fda3a-65b6-4798-f4b8-5ac7589f64af"
   },
   "outputs": [
    {
     "name": "stdout",
     "output_type": "stream",
     "text": [
      "tensor([[   2, 1003, 3208,   39, 2411, 4927,    3]], device='cuda:0')\n",
      "[CLS] ghar jaane ke baad [SEP] karo [UNK] pm ko school ke liye mere paas kitne reminders hai [UNK] mujhe mere plan ke milne ke liye ekoo aaj friedning kiadaainberachus in st clocke par time hai towno karaye mujhe ke liyety recomlist me raat ke liyeellers kabfic inca kiya baslale ke baad don kabo the karenge miney traffic ke liye destination onie ke liye futuro len kar\n"
     ]
    }
   ],
   "source": [
    "custom_context = \"ghar jaane ke baad\"\n",
    "context_tokens = tokenizer(custom_context, return_tensors=\"pt\").input_ids.to(device)\n",
    "print(context_tokens)\n",
    "print(tokenizer.decode(decoder.generate(context_tokens, max_new_tokens=100)[0].tolist()))"
   ]
  },
  {
   "cell_type": "markdown",
   "metadata": {
    "id": "pcR91m6t9rDz"
   },
   "source": [
    "Plotting data for the models with different tokenisers."
   ]
  },
  {
   "cell_type": "code",
   "execution_count": 89,
   "metadata": {
    "colab": {
     "base_uri": "https://localhost:8080/",
     "height": 607
    },
    "executionInfo": {
     "elapsed": 963,
     "status": "ok",
     "timestamp": 1733081806468,
     "user": {
      "displayName": "Jishnu Raychaudhuri",
      "userId": "00668552105541805087"
     },
     "user_tz": 480
    },
    "id": "D3erKOo9EnDU",
    "outputId": "6676b029-d41b-4b09-e5ab-3e4bd4dbceb7"
   },
   "outputs": [
    {
     "data": {
      "image/png": "[encoded data removed]",
      "text/plain": [
       "<Figure size 800x600 with 1 Axes>"
      ]
     },
     "metadata": {},
     "output_type": "display_data"
    }
   ],
   "source": [
    "import matplotlib.pyplot as plt\n",
    "\n",
    "plt.figure(figsize=(8, 6))\n",
    "plt.plot(iterations[1:], simple_train_perplexities[1:], label = \"Training Perplexities\")\n",
    "plt.plot(iterations[1:], simple_test_perplexities[1:], label = \"Testing perplexities\")\n",
    "plt.xlabel(\"Iteration\")\n",
    "plt.ylabel(\"Perplexity\")\n",
    "plt.title(\"Hinglish decoder model with Simple tokenizer performance\")\n",
    "plt.legend()\n",
    "plt.grid()\n",
    "plt.tight_layout()\n",
    "plt.savefig(\"simple_tokenizer.png\")\n",
    "plt.show()"
   ]
  },
  {
   "cell_type": "code",
   "execution_count": 93,
   "metadata": {
    "colab": {
     "base_uri": "https://localhost:8080/",
     "height": 607
    },
    "executionInfo": {
     "elapsed": 753,
     "status": "ok",
     "timestamp": 1733081874847,
     "user": {
      "displayName": "Jishnu Raychaudhuri",
      "userId": "00668552105541805087"
     },
     "user_tz": 480
    },
    "id": "GBv4P4tcuGhQ",
    "outputId": "c249b231-8d89-4ef6-be65-6d8a7d35f144"
   },
   "outputs": [
    {
     "data": {
      "image/png": "[encoded data removed]",
      "text/plain": [
       "<Figure size 800x600 with 1 Axes>"
      ]
     },
     "metadata": {},
     "output_type": "display_data"
    }
   ],
   "source": [
    "plt.figure(figsize=(8, 6))\n",
    "plt.plot(iterations[1:], muril_train_perplexities[1:], label = \"Training Perplexities\")\n",
    "plt.plot(iterations[1:], muril_test_perplexities[1:], label = \"Testing perplexities\")\n",
    "plt.xlabel(\"Iteration\")\n",
    "plt.ylabel(\"Perplexity\")\n",
    "plt.title(\"Hinglish decoder with MuRIL tokenizer model performance\")\n",
    "plt.legend()\n",
    "plt.grid()\n",
    "plt.tight_layout()\n",
    "plt.savefig(\"muril_tokenizer.png\")\n",
    "plt.show()"
   ]
  },
  {
   "cell_type": "code",
   "execution_count": 92,
   "metadata": {
    "colab": {
     "base_uri": "https://localhost:8080/",
     "height": 607
    },
    "executionInfo": {
     "elapsed": 747,
     "status": "ok",
     "timestamp": 1733081872149,
     "user": {
      "displayName": "Jishnu Raychaudhuri",
      "userId": "00668552105541805087"
     },
     "user_tz": 480
    },
    "id": "RbnZvR8huSxI",
    "outputId": "bda59df7-b9a6-4f84-c4c8-5f7fd53289ea"
   },
   "outputs": [
    {
     "data": {
      "image/png": "[encoded data removed]",
      "text/plain": [
       "<Figure size 800x600 with 1 Axes>"
      ]
     },
     "metadata": {},
     "output_type": "display_data"
    }
   ],
   "source": [
    "plt.figure(figsize=(8, 6))\n",
    "plt.plot(iterations[1:], hinglish_train_perplexities[1:], label = \"Training Perplexities\")\n",
    "plt.plot(iterations[1:], hinglish_test_perplexities[1:], label = \"Testing perplexities\")\n",
    "plt.xlabel(\"Iteration\")\n",
    "plt.ylabel(\"Perplexity\")\n",
    "plt.title(\"Hinglish decoder with Hinglish tokenizer model performance\")\n",
    "plt.legend()\n",
    "plt.grid()\n",
    "plt.tight_layout()\n",
    "plt.savefig(\"hinglish_tokenizer.png\")\n",
    "plt.show()"
   ]
  },
  {
   "cell_type": "code",
   "execution_count": 94,
   "metadata": {
    "colab": {
     "base_uri": "https://localhost:8080/",
     "height": 607
    },
    "executionInfo": {
     "elapsed": 992,
     "status": "ok",
     "timestamp": 1733081945782,
     "user": {
      "displayName": "Jishnu Raychaudhuri",
      "userId": "00668552105541805087"
     },
     "user_tz": 480
    },
    "id": "4yuh6IHPuodx",
    "outputId": "e7cf9bdb-7dfa-40e4-d17c-eb7e8c597762"
   },
   "outputs": [
    {
     "data": {
      "image/png": "[encoded data removed]",
      "text/plain": [
       "<Figure size 800x600 with 1 Axes>"
      ]
     },
     "metadata": {},
     "output_type": "display_data"
    }
   ],
   "source": [
    "plt.figure(figsize=(8, 6))\n",
    "plt.plot(iterations[1:], simple_train_perplexities[1:], label = \"Simple Training Perplexities\")\n",
    "plt.plot(iterations[1:], simple_test_perplexities[1:], label = \"Simple Testing perplexities\")\n",
    "plt.plot(iterations[1:], muril_train_perplexities[1:], label = \"MuRIL Training Perplexities\")\n",
    "plt.plot(iterations[1:], muril_test_perplexities[1:], label = \"MuRIL Testing perplexities\")\n",
    "plt.plot(iterations[1:], hinglish_train_perplexities[1:], label = \"Hinglish Training Perplexities\")\n",
    "plt.plot(iterations[1:], hinglish_test_perplexities[1:], label = \"Hinglish Testing perplexities\")\n",
    "plt.xlabel(\"Iteration\")\n",
    "plt.ylabel(\"Perplexity\")\n",
    "plt.title(\"Hinglish decoder model performance\")\n",
    "plt.legend()\n",
    "plt.grid()\n",
    "plt.tight_layout()\n",
    "plt.savefig(\"comparison.png\")\n",
    "plt.show()"
   ]
  },
  {
   "cell_type": "code",
   "execution_count": null,
   "metadata": {
    "id": "-SuzVzR-u9AK"
   },
   "outputs": [],
   "source": []
  }
 ],
 "metadata": {
  "accelerator": "GPU",
  "colab": {
   "gpuType": "A100",
   "provenance": []
  },
  "kernelspec": {
   "display_name": "Python 3",
   "name": "python3"
  },
  "language_info": {
   "codemirror_mode": {
    "name": "ipython",
    "version": 3
   },
   "file_extension": ".py",
   "mimetype": "text/x-python",
   "name": "python",
   "nbconvert_exporter": "python",
   "pygments_lexer": "ipython3",
   "version": "3.12.2"
  },
  "widgets": {
   "application/vnd.jupyter.widget-state+json": {
    "01b1e855290744c0bf5001340817279e": {
     "model_module": "@jupyter-widgets/base",
     "model_module_version": "1.2.0",
     "model_name": "LayoutModel",
     "state": {
      "_model_module": "@jupyter-widgets/base",
      "_model_module_version": "1.2.0",
      "_model_name": "LayoutModel",
      "_view_count": null,
      "_view_module": "@jupyter-widgets/base",
      "_view_module_version": "1.2.0",
      "_view_name": "LayoutView",
      "align_content": null,
      "align_items": null,
      "align_self": null,
      "border": null,
      "bottom": null,
      "display": null,
      "flex": null,
      "flex_flow": null,
      "grid_area": null,
      "grid_auto_columns": null,
      "grid_auto_flow": null,
      "grid_auto_rows": null,
      "grid_column": null,
      "grid_gap": null,
      "grid_row": null,
      "grid_template_areas": null,
      "grid_template_columns": null,
      "grid_template_rows": null,
      "height": null,
      "justify_content": null,
      "justify_items": null,
      "left": null,
      "margin": null,
      "max_height": null,
      "max_width": null,
      "min_height": null,
      "min_width": null,
      "object_fit": null,
      "object_position": null,
      "order": null,
      "overflow": null,
      "overflow_x": null,
      "overflow_y": null,
      "padding": null,
      "right": null,
      "top": null,
      "visibility": null,
      "width": null
     }
    },
    "0243d31819184f82b76217bb71aef048": {
     "model_module": "@jupyter-widgets/base",
     "model_module_version": "1.2.0",
     "model_name": "LayoutModel",
     "state": {
      "_model_module": "@jupyter-widgets/base",
      "_model_module_version": "1.2.0",
      "_model_name": "LayoutModel",
      "_view_count": null,
      "_view_module": "@jupyter-widgets/base",
      "_view_module_version": "1.2.0",
      "_view_name": "LayoutView",
      "align_content": null,
      "align_items": null,
      "align_self": null,
      "border": null,
      "bottom": null,
      "display": null,
      "flex": null,
      "flex_flow": null,
      "grid_area": null,
      "grid_auto_columns": null,
      "grid_auto_flow": null,
      "grid_auto_rows": null,
      "grid_column": null,
      "grid_gap": null,
      "grid_row": null,
      "grid_template_areas": null,
      "grid_template_columns": null,
      "grid_template_rows": null,
      "height": null,
      "justify_content": null,
      "justify_items": null,
      "left": null,
      "margin": null,
      "max_height": null,
      "max_width": null,
      "min_height": null,
      "min_width": null,
      "object_fit": null,
      "object_position": null,
      "order": null,
      "overflow": null,
      "overflow_x": null,
      "overflow_y": null,
      "padding": null,
      "right": null,
      "top": null,
      "visibility": null,
      "width": null
     }
    },
    "0af18c0960994328b8271b3c5fddc869": {
     "model_module": "@jupyter-widgets/controls",
     "model_module_version": "1.5.0",
     "model_name": "DescriptionStyleModel",
     "state": {
      "_model_module": "@jupyter-widgets/controls",
      "_model_module_version": "1.5.0",
      "_model_name": "DescriptionStyleModel",
      "_view_count": null,
      "_view_module": "@jupyter-widgets/base",
      "_view_module_version": "1.2.0",
      "_view_name": "StyleView",
      "description_width": ""
     }
    },
    "0b70864369084f599110514742802331": {
     "model_module": "@jupyter-widgets/controls",
     "model_module_version": "1.5.0",
     "model_name": "HTMLModel",
     "state": {
      "_dom_classes": [],
      "_model_module": "@jupyter-widgets/controls",
      "_model_module_version": "1.5.0",
      "_model_name": "HTMLModel",
      "_view_count": null,
      "_view_module": "@jupyter-widgets/controls",
      "_view_module_version": "1.5.0",
      "_view_name": "HTMLView",
      "description": "",
      "description_tooltip": null,
      "layout": "IPY_MODEL_d49d7949462d430dbf9b814b3baa7d4d",
      "placeholder": "​",
      "style": "IPY_MODEL_4bb6c92fa06944929be5fe503c3c9a7c",
      "value": " 314/314 [00:00&lt;00:00, 26.3kB/s]"
     }
    },
    "203f92d17df2416898d1dbcf4b430b14": {
     "model_module": "@jupyter-widgets/controls",
     "model_module_version": "1.5.0",
     "model_name": "ProgressStyleModel",
     "state": {
      "_model_module": "@jupyter-widgets/controls",
      "_model_module_version": "1.5.0",
      "_model_name": "ProgressStyleModel",
      "_view_count": null,
      "_view_module": "@jupyter-widgets/base",
      "_view_module_version": "1.2.0",
      "_view_name": "StyleView",
      "bar_color": null,
      "description_width": ""
     }
    },
    "21949260da5640f39fcce5e858651b52": {
     "model_module": "@jupyter-widgets/controls",
     "model_module_version": "1.5.0",
     "model_name": "ProgressStyleModel",
     "state": {
      "_model_module": "@jupyter-widgets/controls",
      "_model_module_version": "1.5.0",
      "_model_name": "ProgressStyleModel",
      "_view_count": null,
      "_view_module": "@jupyter-widgets/base",
      "_view_module_version": "1.2.0",
      "_view_name": "StyleView",
      "bar_color": null,
      "description_width": ""
     }
    },
    "296960d95a9246b8a11dea533082d29c": {
     "model_module": "@jupyter-widgets/controls",
     "model_module_version": "1.5.0",
     "model_name": "HTMLModel",
     "state": {
      "_dom_classes": [],
      "_model_module": "@jupyter-widgets/controls",
      "_model_module_version": "1.5.0",
      "_model_name": "HTMLModel",
      "_view_count": null,
      "_view_module": "@jupyter-widgets/controls",
      "_view_module_version": "1.5.0",
      "_view_name": "HTMLView",
      "description": "",
      "description_tooltip": null,
      "layout": "IPY_MODEL_01b1e855290744c0bf5001340817279e",
      "placeholder": "​",
      "style": "IPY_MODEL_d4ed236ffa0b45188d66424d684f30e3",
      "value": " 125/125 [00:00&lt;00:00, 10.8kB/s]"
     }
    },
    "2aab57bbee4e4807b47aa9b63dcec374": {
     "model_module": "@jupyter-widgets/controls",
     "model_module_version": "1.5.0",
     "model_name": "HTMLModel",
     "state": {
      "_dom_classes": [],
      "_model_module": "@jupyter-widgets/controls",
      "_model_module_version": "1.5.0",
      "_model_name": "HTMLModel",
      "_view_count": null,
      "_view_module": "@jupyter-widgets/controls",
      "_view_module_version": "1.5.0",
      "_view_name": "HTMLView",
      "description": "",
      "description_tooltip": null,
      "layout": "IPY_MODEL_c87497ee95af4b9eae2da575f0c96f2b",
      "placeholder": "​",
      "style": "IPY_MODEL_9d4ac6a937d943d7b8666865230f3d8d",
      "value": " 686k/686k [00:00&lt;00:00, 1.63MB/s]"
     }
    },
    "3b3b0cb2ef9e468685314a4ed32a27c8": {
     "model_module": "@jupyter-widgets/controls",
     "model_module_version": "1.5.0",
     "model_name": "HTMLModel",
     "state": {
      "_dom_classes": [],
      "_model_module": "@jupyter-widgets/controls",
      "_model_module_version": "1.5.0",
      "_model_name": "HTMLModel",
      "_view_count": null,
      "_view_module": "@jupyter-widgets/controls",
      "_view_module_version": "1.5.0",
      "_view_name": "HTMLView",
      "description": "",
      "description_tooltip": null,
      "layout": "IPY_MODEL_cd0da29743944302a41624bf32158fdd",
      "placeholder": "​",
      "style": "IPY_MODEL_5a77f56ff2f44b5d8a0e929471095ffe",
      "value": "tokenizer.json: 100%"
     }
    },
    "3ee732b499a04aadadbcb460fbe0e09a": {
     "model_module": "@jupyter-widgets/base",
     "model_module_version": "1.2.0",
     "model_name": "LayoutModel",
     "state": {
      "_model_module": "@jupyter-widgets/base",
      "_model_module_version": "1.2.0",
      "_model_name": "LayoutModel",
      "_view_count": null,
      "_view_module": "@jupyter-widgets/base",
      "_view_module_version": "1.2.0",
      "_view_name": "LayoutView",
      "align_content": null,
      "align_items": null,
      "align_self": null,
      "border": null,
      "bottom": null,
      "display": null,
      "flex": null,
      "flex_flow": null,
      "grid_area": null,
      "grid_auto_columns": null,
      "grid_auto_flow": null,
      "grid_auto_rows": null,
      "grid_column": null,
      "grid_gap": null,
      "grid_row": null,
      "grid_template_areas": null,
      "grid_template_columns": null,
      "grid_template_rows": null,
      "height": null,
      "justify_content": null,
      "justify_items": null,
      "left": null,
      "margin": null,
      "max_height": null,
      "max_width": null,
      "min_height": null,
      "min_width": null,
      "object_fit": null,
      "object_position": null,
      "order": null,
      "overflow": null,
      "overflow_x": null,
      "overflow_y": null,
      "padding": null,
      "right": null,
      "top": null,
      "visibility": null,
      "width": null
     }
    },
    "4bb6c92fa06944929be5fe503c3c9a7c": {
     "model_module": "@jupyter-widgets/controls",
     "model_module_version": "1.5.0",
     "model_name": "DescriptionStyleModel",
     "state": {
      "_model_module": "@jupyter-widgets/controls",
      "_model_module_version": "1.5.0",
      "_model_name": "DescriptionStyleModel",
      "_view_count": null,
      "_view_module": "@jupyter-widgets/base",
      "_view_module_version": "1.2.0",
      "_view_name": "StyleView",
      "description_width": ""
     }
    },
    "52071a16cc5a4317b69b0ae2d0bd0031": {
     "model_module": "@jupyter-widgets/base",
     "model_module_version": "1.2.0",
     "model_name": "LayoutModel",
     "state": {
      "_model_module": "@jupyter-widgets/base",
      "_model_module_version": "1.2.0",
      "_model_name": "LayoutModel",
      "_view_count": null,
      "_view_module": "@jupyter-widgets/base",
      "_view_module_version": "1.2.0",
      "_view_name": "LayoutView",
      "align_content": null,
      "align_items": null,
      "align_self": null,
      "border": null,
      "bottom": null,
      "display": null,
      "flex": null,
      "flex_flow": null,
      "grid_area": null,
      "grid_auto_columns": null,
      "grid_auto_flow": null,
      "grid_auto_rows": null,
      "grid_column": null,
      "grid_gap": null,
      "grid_row": null,
      "grid_template_areas": null,
      "grid_template_columns": null,
      "grid_template_rows": null,
      "height": null,
      "justify_content": null,
      "justify_items": null,
      "left": null,
      "margin": null,
      "max_height": null,
      "max_width": null,
      "min_height": null,
      "min_width": null,
      "object_fit": null,
      "object_position": null,
      "order": null,
      "overflow": null,
      "overflow_x": null,
      "overflow_y": null,
      "padding": null,
      "right": null,
      "top": null,
      "visibility": null,
      "width": null
     }
    },
    "55b3e9e4e1c7495b9502ca7ee9166854": {
     "model_module": "@jupyter-widgets/controls",
     "model_module_version": "1.5.0",
     "model_name": "HTMLModel",
     "state": {
      "_dom_classes": [],
      "_model_module": "@jupyter-widgets/controls",
      "_model_module_version": "1.5.0",
      "_model_name": "HTMLModel",
      "_view_count": null,
      "_view_module": "@jupyter-widgets/controls",
      "_view_module_version": "1.5.0",
      "_view_name": "HTMLView",
      "description": "",
      "description_tooltip": null,
      "layout": "IPY_MODEL_57cdc2fdcaee48a3814245c07873aa52",
      "placeholder": "​",
      "style": "IPY_MODEL_0af18c0960994328b8271b3c5fddc869",
      "value": "tokenizer_config.json: 100%"
     }
    },
    "566f99b99f4449829b72fb8396f58f21": {
     "model_module": "@jupyter-widgets/controls",
     "model_module_version": "1.5.0",
     "model_name": "DescriptionStyleModel",
     "state": {
      "_model_module": "@jupyter-widgets/controls",
      "_model_module_version": "1.5.0",
      "_model_name": "DescriptionStyleModel",
      "_view_count": null,
      "_view_module": "@jupyter-widgets/base",
      "_view_module_version": "1.2.0",
      "_view_name": "StyleView",
      "description_width": ""
     }
    },
    "57cdc2fdcaee48a3814245c07873aa52": {
     "model_module": "@jupyter-widgets/base",
     "model_module_version": "1.2.0",
     "model_name": "LayoutModel",
     "state": {
      "_model_module": "@jupyter-widgets/base",
      "_model_module_version": "1.2.0",
      "_model_name": "LayoutModel",
      "_view_count": null,
      "_view_module": "@jupyter-widgets/base",
      "_view_module_version": "1.2.0",
      "_view_name": "LayoutView",
      "align_content": null,
      "align_items": null,
      "align_self": null,
      "border": null,
      "bottom": null,
      "display": null,
      "flex": null,
      "flex_flow": null,
      "grid_area": null,
      "grid_auto_columns": null,
      "grid_auto_flow": null,
      "grid_auto_rows": null,
      "grid_column": null,
      "grid_gap": null,
      "grid_row": null,
      "grid_template_areas": null,
      "grid_template_columns": null,
      "grid_template_rows": null,
      "height": null,
      "justify_content": null,
      "justify_items": null,
      "left": null,
      "margin": null,
      "max_height": null,
      "max_width": null,
      "min_height": null,
      "min_width": null,
      "object_fit": null,
      "object_position": null,
      "order": null,
      "overflow": null,
      "overflow_x": null,
      "overflow_y": null,
      "padding": null,
      "right": null,
      "top": null,
      "visibility": null,
      "width": null
     }
    },
    "58265b88d8fd4ac086b1ac2411bb606c": {
     "model_module": "@jupyter-widgets/controls",
     "model_module_version": "1.5.0",
     "model_name": "FloatProgressModel",
     "state": {
      "_dom_classes": [],
      "_model_module": "@jupyter-widgets/controls",
      "_model_module_version": "1.5.0",
      "_model_name": "FloatProgressModel",
      "_view_count": null,
      "_view_module": "@jupyter-widgets/controls",
      "_view_module_version": "1.5.0",
      "_view_name": "ProgressView",
      "bar_style": "success",
      "description": "",
      "description_tooltip": null,
      "layout": "IPY_MODEL_96357e7b9f8841a092b0d629816d608f",
      "max": 206609,
      "min": 0,
      "orientation": "horizontal",
      "style": "IPY_MODEL_21949260da5640f39fcce5e858651b52",
      "value": 206609
     }
    },
    "5a77f56ff2f44b5d8a0e929471095ffe": {
     "model_module": "@jupyter-widgets/controls",
     "model_module_version": "1.5.0",
     "model_name": "DescriptionStyleModel",
     "state": {
      "_model_module": "@jupyter-widgets/controls",
      "_model_module_version": "1.5.0",
      "_model_name": "DescriptionStyleModel",
      "_view_count": null,
      "_view_module": "@jupyter-widgets/base",
      "_view_module_version": "1.2.0",
      "_view_name": "StyleView",
      "description_width": ""
     }
    },
    "76057372869b4c5d9c2ca7107d655362": {
     "model_module": "@jupyter-widgets/base",
     "model_module_version": "1.2.0",
     "model_name": "LayoutModel",
     "state": {
      "_model_module": "@jupyter-widgets/base",
      "_model_module_version": "1.2.0",
      "_model_name": "LayoutModel",
      "_view_count": null,
      "_view_module": "@jupyter-widgets/base",
      "_view_module_version": "1.2.0",
      "_view_name": "LayoutView",
      "align_content": null,
      "align_items": null,
      "align_self": null,
      "border": null,
      "bottom": null,
      "display": null,
      "flex": null,
      "flex_flow": null,
      "grid_area": null,
      "grid_auto_columns": null,
      "grid_auto_flow": null,
      "grid_auto_rows": null,
      "grid_column": null,
      "grid_gap": null,
      "grid_row": null,
      "grid_template_areas": null,
      "grid_template_columns": null,
      "grid_template_rows": null,
      "height": null,
      "justify_content": null,
      "justify_items": null,
      "left": null,
      "margin": null,
      "max_height": null,
      "max_width": null,
      "min_height": null,
      "min_width": null,
      "object_fit": null,
      "object_position": null,
      "order": null,
      "overflow": null,
      "overflow_x": null,
      "overflow_y": null,
      "padding": null,
      "right": null,
      "top": null,
      "visibility": null,
      "width": null
     }
    },
    "7dfc7b2497c24ee1a0c139360e1ee030": {
     "model_module": "@jupyter-widgets/base",
     "model_module_version": "1.2.0",
     "model_name": "LayoutModel",
     "state": {
      "_model_module": "@jupyter-widgets/base",
      "_model_module_version": "1.2.0",
      "_model_name": "LayoutModel",
      "_view_count": null,
      "_view_module": "@jupyter-widgets/base",
      "_view_module_version": "1.2.0",
      "_view_name": "LayoutView",
      "align_content": null,
      "align_items": null,
      "align_self": null,
      "border": null,
      "bottom": null,
      "display": null,
      "flex": null,
      "flex_flow": null,
      "grid_area": null,
      "grid_auto_columns": null,
      "grid_auto_flow": null,
      "grid_auto_rows": null,
      "grid_column": null,
      "grid_gap": null,
      "grid_row": null,
      "grid_template_areas": null,
      "grid_template_columns": null,
      "grid_template_rows": null,
      "height": null,
      "justify_content": null,
      "justify_items": null,
      "left": null,
      "margin": null,
      "max_height": null,
      "max_width": null,
      "min_height": null,
      "min_width": null,
      "object_fit": null,
      "object_position": null,
      "order": null,
      "overflow": null,
      "overflow_x": null,
      "overflow_y": null,
      "padding": null,
      "right": null,
      "top": null,
      "visibility": null,
      "width": null
     }
    },
    "89e4245866c04650b239e021b6cbe5c5": {
     "model_module": "@jupyter-widgets/controls",
     "model_module_version": "1.5.0",
     "model_name": "FloatProgressModel",
     "state": {
      "_dom_classes": [],
      "_model_module": "@jupyter-widgets/controls",
      "_model_module_version": "1.5.0",
      "_model_name": "FloatProgressModel",
      "_view_count": null,
      "_view_module": "@jupyter-widgets/controls",
      "_view_module_version": "1.5.0",
      "_view_name": "ProgressView",
      "bar_style": "success",
      "description": "",
      "description_tooltip": null,
      "layout": "IPY_MODEL_ca1c541b070b42dbbe7ed86ed0bdf474",
      "max": 314,
      "min": 0,
      "orientation": "horizontal",
      "style": "IPY_MODEL_203f92d17df2416898d1dbcf4b430b14",
      "value": 314
     }
    },
    "8a47771f23b2416c8d127149baf40d84": {
     "model_module": "@jupyter-widgets/base",
     "model_module_version": "1.2.0",
     "model_name": "LayoutModel",
     "state": {
      "_model_module": "@jupyter-widgets/base",
      "_model_module_version": "1.2.0",
      "_model_name": "LayoutModel",
      "_view_count": null,
      "_view_module": "@jupyter-widgets/base",
      "_view_module_version": "1.2.0",
      "_view_name": "LayoutView",
      "align_content": null,
      "align_items": null,
      "align_self": null,
      "border": null,
      "bottom": null,
      "display": null,
      "flex": null,
      "flex_flow": null,
      "grid_area": null,
      "grid_auto_columns": null,
      "grid_auto_flow": null,
      "grid_auto_rows": null,
      "grid_column": null,
      "grid_gap": null,
      "grid_row": null,
      "grid_template_areas": null,
      "grid_template_columns": null,
      "grid_template_rows": null,
      "height": null,
      "justify_content": null,
      "justify_items": null,
      "left": null,
      "margin": null,
      "max_height": null,
      "max_width": null,
      "min_height": null,
      "min_width": null,
      "object_fit": null,
      "object_position": null,
      "order": null,
      "overflow": null,
      "overflow_x": null,
      "overflow_y": null,
      "padding": null,
      "right": null,
      "top": null,
      "visibility": null,
      "width": null
     }
    },
    "96357e7b9f8841a092b0d629816d608f": {
     "model_module": "@jupyter-widgets/base",
     "model_module_version": "1.2.0",
     "model_name": "LayoutModel",
     "state": {
      "_model_module": "@jupyter-widgets/base",
      "_model_module_version": "1.2.0",
      "_model_name": "LayoutModel",
      "_view_count": null,
      "_view_module": "@jupyter-widgets/base",
      "_view_module_version": "1.2.0",
      "_view_name": "LayoutView",
      "align_content": null,
      "align_items": null,
      "align_self": null,
      "border": null,
      "bottom": null,
      "display": null,
      "flex": null,
      "flex_flow": null,
      "grid_area": null,
      "grid_auto_columns": null,
      "grid_auto_flow": null,
      "grid_auto_rows": null,
      "grid_column": null,
      "grid_gap": null,
      "grid_row": null,
      "grid_template_areas": null,
      "grid_template_columns": null,
      "grid_template_rows": null,
      "height": null,
      "justify_content": null,
      "justify_items": null,
      "left": null,
      "margin": null,
      "max_height": null,
      "max_width": null,
      "min_height": null,
      "min_width": null,
      "object_fit": null,
      "object_position": null,
      "order": null,
      "overflow": null,
      "overflow_x": null,
      "overflow_y": null,
      "padding": null,
      "right": null,
      "top": null,
      "visibility": null,
      "width": null
     }
    },
    "99cd7fe2c4ff403e90e1ba49c8f0290e": {
     "model_module": "@jupyter-widgets/controls",
     "model_module_version": "1.5.0",
     "model_name": "HBoxModel",
     "state": {
      "_dom_classes": [],
      "_model_module": "@jupyter-widgets/controls",
      "_model_module_version": "1.5.0",
      "_model_name": "HBoxModel",
      "_view_count": null,
      "_view_module": "@jupyter-widgets/controls",
      "_view_module_version": "1.5.0",
      "_view_name": "HBoxView",
      "box_style": "",
      "children": [
       "IPY_MODEL_3b3b0cb2ef9e468685314a4ed32a27c8",
       "IPY_MODEL_c30b8ddeeeb4424f9fb3326ab718f77a",
       "IPY_MODEL_2aab57bbee4e4807b47aa9b63dcec374"
      ],
      "layout": "IPY_MODEL_52071a16cc5a4317b69b0ae2d0bd0031"
     }
    },
    "9d4ac6a937d943d7b8666865230f3d8d": {
     "model_module": "@jupyter-widgets/controls",
     "model_module_version": "1.5.0",
     "model_name": "DescriptionStyleModel",
     "state": {
      "_model_module": "@jupyter-widgets/controls",
      "_model_module_version": "1.5.0",
      "_model_name": "DescriptionStyleModel",
      "_view_count": null,
      "_view_module": "@jupyter-widgets/base",
      "_view_module_version": "1.2.0",
      "_view_name": "StyleView",
      "description_width": ""
     }
    },
    "9e2acdf9b7334df099a934c8ea6be86f": {
     "model_module": "@jupyter-widgets/base",
     "model_module_version": "1.2.0",
     "model_name": "LayoutModel",
     "state": {
      "_model_module": "@jupyter-widgets/base",
      "_model_module_version": "1.2.0",
      "_model_name": "LayoutModel",
      "_view_count": null,
      "_view_module": "@jupyter-widgets/base",
      "_view_module_version": "1.2.0",
      "_view_name": "LayoutView",
      "align_content": null,
      "align_items": null,
      "align_self": null,
      "border": null,
      "bottom": null,
      "display": null,
      "flex": null,
      "flex_flow": null,
      "grid_area": null,
      "grid_auto_columns": null,
      "grid_auto_flow": null,
      "grid_auto_rows": null,
      "grid_column": null,
      "grid_gap": null,
      "grid_row": null,
      "grid_template_areas": null,
      "grid_template_columns": null,
      "grid_template_rows": null,
      "height": null,
      "justify_content": null,
      "justify_items": null,
      "left": null,
      "margin": null,
      "max_height": null,
      "max_width": null,
      "min_height": null,
      "min_width": null,
      "object_fit": null,
      "object_position": null,
      "order": null,
      "overflow": null,
      "overflow_x": null,
      "overflow_y": null,
      "padding": null,
      "right": null,
      "top": null,
      "visibility": null,
      "width": null
     }
    },
    "a81885316e8a491eaad4700be74ef7fa": {
     "model_module": "@jupyter-widgets/controls",
     "model_module_version": "1.5.0",
     "model_name": "HTMLModel",
     "state": {
      "_dom_classes": [],
      "_model_module": "@jupyter-widgets/controls",
      "_model_module_version": "1.5.0",
      "_model_name": "HTMLModel",
      "_view_count": null,
      "_view_module": "@jupyter-widgets/controls",
      "_view_module_version": "1.5.0",
      "_view_name": "HTMLView",
      "description": "",
      "description_tooltip": null,
      "layout": "IPY_MODEL_9e2acdf9b7334df099a934c8ea6be86f",
      "placeholder": "​",
      "style": "IPY_MODEL_ec6aa2bbf49d4a6885e9cb65f21f2376",
      "value": "special_tokens_map.json: 100%"
     }
    },
    "b589fc3792de408c859ea5b830ccb5f5": {
     "model_module": "@jupyter-widgets/controls",
     "model_module_version": "1.5.0",
     "model_name": "HBoxModel",
     "state": {
      "_dom_classes": [],
      "_model_module": "@jupyter-widgets/controls",
      "_model_module_version": "1.5.0",
      "_model_name": "HBoxModel",
      "_view_count": null,
      "_view_module": "@jupyter-widgets/controls",
      "_view_module_version": "1.5.0",
      "_view_name": "HBoxView",
      "box_style": "",
      "children": [
       "IPY_MODEL_a81885316e8a491eaad4700be74ef7fa",
       "IPY_MODEL_e46e64ac50024be3b70e29920c9ea857",
       "IPY_MODEL_296960d95a9246b8a11dea533082d29c"
      ],
      "layout": "IPY_MODEL_7dfc7b2497c24ee1a0c139360e1ee030"
     }
    },
    "b71c770d6ea5401e8d9abd52294b3297": {
     "model_module": "@jupyter-widgets/controls",
     "model_module_version": "1.5.0",
     "model_name": "HTMLModel",
     "state": {
      "_dom_classes": [],
      "_model_module": "@jupyter-widgets/controls",
      "_model_module_version": "1.5.0",
      "_model_name": "HTMLModel",
      "_view_count": null,
      "_view_module": "@jupyter-widgets/controls",
      "_view_module_version": "1.5.0",
      "_view_name": "HTMLView",
      "description": "",
      "description_tooltip": null,
      "layout": "IPY_MODEL_8a47771f23b2416c8d127149baf40d84",
      "placeholder": "​",
      "style": "IPY_MODEL_566f99b99f4449829b72fb8396f58f21",
      "value": " 207k/207k [00:00&lt;00:00, 11.7MB/s]"
     }
    },
    "b888782d2f2b43ea8e2d13b44997be15": {
     "model_module": "@jupyter-widgets/controls",
     "model_module_version": "1.5.0",
     "model_name": "DescriptionStyleModel",
     "state": {
      "_model_module": "@jupyter-widgets/controls",
      "_model_module_version": "1.5.0",
      "_model_name": "DescriptionStyleModel",
      "_view_count": null,
      "_view_module": "@jupyter-widgets/base",
      "_view_module_version": "1.2.0",
      "_view_name": "StyleView",
      "description_width": ""
     }
    },
    "bcf49bd8e9864b06904713d9ab658a2c": {
     "model_module": "@jupyter-widgets/controls",
     "model_module_version": "1.5.0",
     "model_name": "ProgressStyleModel",
     "state": {
      "_model_module": "@jupyter-widgets/controls",
      "_model_module_version": "1.5.0",
      "_model_name": "ProgressStyleModel",
      "_view_count": null,
      "_view_module": "@jupyter-widgets/base",
      "_view_module_version": "1.2.0",
      "_view_name": "StyleView",
      "bar_color": null,
      "description_width": ""
     }
    },
    "c30b8ddeeeb4424f9fb3326ab718f77a": {
     "model_module": "@jupyter-widgets/controls",
     "model_module_version": "1.5.0",
     "model_name": "FloatProgressModel",
     "state": {
      "_dom_classes": [],
      "_model_module": "@jupyter-widgets/controls",
      "_model_module_version": "1.5.0",
      "_model_name": "FloatProgressModel",
      "_view_count": null,
      "_view_module": "@jupyter-widgets/controls",
      "_view_module_version": "1.5.0",
      "_view_name": "ProgressView",
      "bar_style": "success",
      "description": "",
      "description_tooltip": null,
      "layout": "IPY_MODEL_76057372869b4c5d9c2ca7107d655362",
      "max": 686481,
      "min": 0,
      "orientation": "horizontal",
      "style": "IPY_MODEL_f5fda39e95444237a5c0f10a2048d5ee",
      "value": 686481
     }
    },
    "c611cd7193654267855abb37fe8aeb65": {
     "model_module": "@jupyter-widgets/controls",
     "model_module_version": "1.5.0",
     "model_name": "HBoxModel",
     "state": {
      "_dom_classes": [],
      "_model_module": "@jupyter-widgets/controls",
      "_model_module_version": "1.5.0",
      "_model_name": "HBoxModel",
      "_view_count": null,
      "_view_module": "@jupyter-widgets/controls",
      "_view_module_version": "1.5.0",
      "_view_name": "HBoxView",
      "box_style": "",
      "children": [
       "IPY_MODEL_55b3e9e4e1c7495b9502ca7ee9166854",
       "IPY_MODEL_89e4245866c04650b239e021b6cbe5c5",
       "IPY_MODEL_0b70864369084f599110514742802331"
      ],
      "layout": "IPY_MODEL_dafc769f1d1a4628bbd7a33992c190ed"
     }
    },
    "c87497ee95af4b9eae2da575f0c96f2b": {
     "model_module": "@jupyter-widgets/base",
     "model_module_version": "1.2.0",
     "model_name": "LayoutModel",
     "state": {
      "_model_module": "@jupyter-widgets/base",
      "_model_module_version": "1.2.0",
      "_model_name": "LayoutModel",
      "_view_count": null,
      "_view_module": "@jupyter-widgets/base",
      "_view_module_version": "1.2.0",
      "_view_name": "LayoutView",
      "align_content": null,
      "align_items": null,
      "align_self": null,
      "border": null,
      "bottom": null,
      "display": null,
      "flex": null,
      "flex_flow": null,
      "grid_area": null,
      "grid_auto_columns": null,
      "grid_auto_flow": null,
      "grid_auto_rows": null,
      "grid_column": null,
      "grid_gap": null,
      "grid_row": null,
      "grid_template_areas": null,
      "grid_template_columns": null,
      "grid_template_rows": null,
      "height": null,
      "justify_content": null,
      "justify_items": null,
      "left": null,
      "margin": null,
      "max_height": null,
      "max_width": null,
      "min_height": null,
      "min_width": null,
      "object_fit": null,
      "object_position": null,
      "order": null,
      "overflow": null,
      "overflow_x": null,
      "overflow_y": null,
      "padding": null,
      "right": null,
      "top": null,
      "visibility": null,
      "width": null
     }
    },
    "ca1c541b070b42dbbe7ed86ed0bdf474": {
     "model_module": "@jupyter-widgets/base",
     "model_module_version": "1.2.0",
     "model_name": "LayoutModel",
     "state": {
      "_model_module": "@jupyter-widgets/base",
      "_model_module_version": "1.2.0",
      "_model_name": "LayoutModel",
      "_view_count": null,
      "_view_module": "@jupyter-widgets/base",
      "_view_module_version": "1.2.0",
      "_view_name": "LayoutView",
      "align_content": null,
      "align_items": null,
      "align_self": null,
      "border": null,
      "bottom": null,
      "display": null,
      "flex": null,
      "flex_flow": null,
      "grid_area": null,
      "grid_auto_columns": null,
      "grid_auto_flow": null,
      "grid_auto_rows": null,
      "grid_column": null,
      "grid_gap": null,
      "grid_row": null,
      "grid_template_areas": null,
      "grid_template_columns": null,
      "grid_template_rows": null,
      "height": null,
      "justify_content": null,
      "justify_items": null,
      "left": null,
      "margin": null,
      "max_height": null,
      "max_width": null,
      "min_height": null,
      "min_width": null,
      "object_fit": null,
      "object_position": null,
      "order": null,
      "overflow": null,
      "overflow_x": null,
      "overflow_y": null,
      "padding": null,
      "right": null,
      "top": null,
      "visibility": null,
      "width": null
     }
    },
    "cd0da29743944302a41624bf32158fdd": {
     "model_module": "@jupyter-widgets/base",
     "model_module_version": "1.2.0",
     "model_name": "LayoutModel",
     "state": {
      "_model_module": "@jupyter-widgets/base",
      "_model_module_version": "1.2.0",
      "_model_name": "LayoutModel",
      "_view_count": null,
      "_view_module": "@jupyter-widgets/base",
      "_view_module_version": "1.2.0",
      "_view_name": "LayoutView",
      "align_content": null,
      "align_items": null,
      "align_self": null,
      "border": null,
      "bottom": null,
      "display": null,
      "flex": null,
      "flex_flow": null,
      "grid_area": null,
      "grid_auto_columns": null,
      "grid_auto_flow": null,
      "grid_auto_rows": null,
      "grid_column": null,
      "grid_gap": null,
      "grid_row": null,
      "grid_template_areas": null,
      "grid_template_columns": null,
      "grid_template_rows": null,
      "height": null,
      "justify_content": null,
      "justify_items": null,
      "left": null,
      "margin": null,
      "max_height": null,
      "max_width": null,
      "min_height": null,
      "min_width": null,
      "object_fit": null,
      "object_position": null,
      "order": null,
      "overflow": null,
      "overflow_x": null,
      "overflow_y": null,
      "padding": null,
      "right": null,
      "top": null,
      "visibility": null,
      "width": null
     }
    },
    "d49d7949462d430dbf9b814b3baa7d4d": {
     "model_module": "@jupyter-widgets/base",
     "model_module_version": "1.2.0",
     "model_name": "LayoutModel",
     "state": {
      "_model_module": "@jupyter-widgets/base",
      "_model_module_version": "1.2.0",
      "_model_name": "LayoutModel",
      "_view_count": null,
      "_view_module": "@jupyter-widgets/base",
      "_view_module_version": "1.2.0",
      "_view_name": "LayoutView",
      "align_content": null,
      "align_items": null,
      "align_self": null,
      "border": null,
      "bottom": null,
      "display": null,
      "flex": null,
      "flex_flow": null,
      "grid_area": null,
      "grid_auto_columns": null,
      "grid_auto_flow": null,
      "grid_auto_rows": null,
      "grid_column": null,
      "grid_gap": null,
      "grid_row": null,
      "grid_template_areas": null,
      "grid_template_columns": null,
      "grid_template_rows": null,
      "height": null,
      "justify_content": null,
      "justify_items": null,
      "left": null,
      "margin": null,
      "max_height": null,
      "max_width": null,
      "min_height": null,
      "min_width": null,
      "object_fit": null,
      "object_position": null,
      "order": null,
      "overflow": null,
      "overflow_x": null,
      "overflow_y": null,
      "padding": null,
      "right": null,
      "top": null,
      "visibility": null,
      "width": null
     }
    },
    "d4ed236ffa0b45188d66424d684f30e3": {
     "model_module": "@jupyter-widgets/controls",
     "model_module_version": "1.5.0",
     "model_name": "DescriptionStyleModel",
     "state": {
      "_model_module": "@jupyter-widgets/controls",
      "_model_module_version": "1.5.0",
      "_model_name": "DescriptionStyleModel",
      "_view_count": null,
      "_view_module": "@jupyter-widgets/base",
      "_view_module_version": "1.2.0",
      "_view_name": "StyleView",
      "description_width": ""
     }
    },
    "dafc769f1d1a4628bbd7a33992c190ed": {
     "model_module": "@jupyter-widgets/base",
     "model_module_version": "1.2.0",
     "model_name": "LayoutModel",
     "state": {
      "_model_module": "@jupyter-widgets/base",
      "_model_module_version": "1.2.0",
      "_model_name": "LayoutModel",
      "_view_count": null,
      "_view_module": "@jupyter-widgets/base",
      "_view_module_version": "1.2.0",
      "_view_name": "LayoutView",
      "align_content": null,
      "align_items": null,
      "align_self": null,
      "border": null,
      "bottom": null,
      "display": null,
      "flex": null,
      "flex_flow": null,
      "grid_area": null,
      "grid_auto_columns": null,
      "grid_auto_flow": null,
      "grid_auto_rows": null,
      "grid_column": null,
      "grid_gap": null,
      "grid_row": null,
      "grid_template_areas": null,
      "grid_template_columns": null,
      "grid_template_rows": null,
      "height": null,
      "justify_content": null,
      "justify_items": null,
      "left": null,
      "margin": null,
      "max_height": null,
      "max_width": null,
      "min_height": null,
      "min_width": null,
      "object_fit": null,
      "object_position": null,
      "order": null,
      "overflow": null,
      "overflow_x": null,
      "overflow_y": null,
      "padding": null,
      "right": null,
      "top": null,
      "visibility": null,
      "width": null
     }
    },
    "e46e64ac50024be3b70e29920c9ea857": {
     "model_module": "@jupyter-widgets/controls",
     "model_module_version": "1.5.0",
     "model_name": "FloatProgressModel",
     "state": {
      "_dom_classes": [],
      "_model_module": "@jupyter-widgets/controls",
      "_model_module_version": "1.5.0",
      "_model_name": "FloatProgressModel",
      "_view_count": null,
      "_view_module": "@jupyter-widgets/controls",
      "_view_module_version": "1.5.0",
      "_view_name": "ProgressView",
      "bar_style": "success",
      "description": "",
      "description_tooltip": null,
      "layout": "IPY_MODEL_fd236b5a6dfb41f7a48e917405c812e7",
      "max": 125,
      "min": 0,
      "orientation": "horizontal",
      "style": "IPY_MODEL_bcf49bd8e9864b06904713d9ab658a2c",
      "value": 125
     }
    },
    "ea6dd517a98e4d94be61a2c19751e4e1": {
     "model_module": "@jupyter-widgets/controls",
     "model_module_version": "1.5.0",
     "model_name": "HTMLModel",
     "state": {
      "_dom_classes": [],
      "_model_module": "@jupyter-widgets/controls",
      "_model_module_version": "1.5.0",
      "_model_name": "HTMLModel",
      "_view_count": null,
      "_view_module": "@jupyter-widgets/controls",
      "_view_module_version": "1.5.0",
      "_view_name": "HTMLView",
      "description": "",
      "description_tooltip": null,
      "layout": "IPY_MODEL_0243d31819184f82b76217bb71aef048",
      "placeholder": "​",
      "style": "IPY_MODEL_b888782d2f2b43ea8e2d13b44997be15",
      "value": "vocab.txt: 100%"
     }
    },
    "ec6aa2bbf49d4a6885e9cb65f21f2376": {
     "model_module": "@jupyter-widgets/controls",
     "model_module_version": "1.5.0",
     "model_name": "DescriptionStyleModel",
     "state": {
      "_model_module": "@jupyter-widgets/controls",
      "_model_module_version": "1.5.0",
      "_model_name": "DescriptionStyleModel",
      "_view_count": null,
      "_view_module": "@jupyter-widgets/base",
      "_view_module_version": "1.2.0",
      "_view_name": "StyleView",
      "description_width": ""
     }
    },
    "f14bb7ad65e24faa9b06d7b246e6df27": {
     "model_module": "@jupyter-widgets/controls",
     "model_module_version": "1.5.0",
     "model_name": "HBoxModel",
     "state": {
      "_dom_classes": [],
      "_model_module": "@jupyter-widgets/controls",
      "_model_module_version": "1.5.0",
      "_model_name": "HBoxModel",
      "_view_count": null,
      "_view_module": "@jupyter-widgets/controls",
      "_view_module_version": "1.5.0",
      "_view_name": "HBoxView",
      "box_style": "",
      "children": [
       "IPY_MODEL_ea6dd517a98e4d94be61a2c19751e4e1",
       "IPY_MODEL_58265b88d8fd4ac086b1ac2411bb606c",
       "IPY_MODEL_b71c770d6ea5401e8d9abd52294b3297"
      ],
      "layout": "IPY_MODEL_3ee732b499a04aadadbcb460fbe0e09a"
     }
    },
    "f5fda39e95444237a5c0f10a2048d5ee": {
     "model_module": "@jupyter-widgets/controls",
     "model_module_version": "1.5.0",
     "model_name": "ProgressStyleModel",
     "state": {
      "_model_module": "@jupyter-widgets/controls",
      "_model_module_version": "1.5.0",
      "_model_name": "ProgressStyleModel",
      "_view_count": null,
      "_view_module": "@jupyter-widgets/base",
      "_view_module_version": "1.2.0",
      "_view_name": "StyleView",
      "bar_color": null,
      "description_width": ""
     }
    },
    "fd236b5a6dfb41f7a48e917405c812e7": {
     "model_module": "@jupyter-widgets/base",
     "model_module_version": "1.2.0",
     "model_name": "LayoutModel",
     "state": {
      "_model_module": "@jupyter-widgets/base",
      "_model_module_version": "1.2.0",
      "_model_name": "LayoutModel",
      "_view_count": null,
      "_view_module": "@jupyter-widgets/base",
      "_view_module_version": "1.2.0",
      "_view_name": "LayoutView",
      "align_content": null,
      "align_items": null,
      "align_self": null,
      "border": null,
      "bottom": null,
      "display": null,
      "flex": null,
      "flex_flow": null,
      "grid_area": null,
      "grid_auto_columns": null,
      "grid_auto_flow": null,
      "grid_auto_rows": null,
      "grid_column": null,
      "grid_gap": null,
      "grid_row": null,
      "grid_template_areas": null,
      "grid_template_columns": null,
      "grid_template_rows": null,
      "height": null,
      "justify_content": null,
      "justify_items": null,
      "left": null,
      "margin": null,
      "max_height": null,
      "max_width": null,
      "min_height": null,
      "min_width": null,
      "object_fit": null,
      "object_position": null,
      "order": null,
      "overflow": null,
      "overflow_x": null,
      "overflow_y": null,
      "padding": null,
      "right": null,
      "top": null,
      "visibility": null,
      "width": null
     }
    }
   }
  }
 },
 "nbformat": 4,
 "nbformat_minor": 0
}
